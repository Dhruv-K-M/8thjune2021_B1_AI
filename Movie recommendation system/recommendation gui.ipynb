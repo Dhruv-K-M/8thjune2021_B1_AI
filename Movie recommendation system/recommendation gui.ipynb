{
 "cells": [
  {
   "cell_type": "code",
   "execution_count": 1,
   "id": "6851aae0-2a9d-4328-940c-9e813b378fa3",
   "metadata": {},
   "outputs": [],
   "source": [
    "import tkinter as tk"
   ]
  },
  {
   "cell_type": "code",
   "execution_count": 2,
   "id": "57231eaa-1115-4d91-907f-51f1548c6f39",
   "metadata": {},
   "outputs": [],
   "source": [
    "import pandas as pd"
   ]
  },
  {
   "cell_type": "code",
   "execution_count": 3,
   "id": "20e1bc54-10d9-4eac-9106-372afb7b3441",
   "metadata": {},
   "outputs": [],
   "source": [
    "import warnings\n",
    "warnings.filterwarnings('ignore')"
   ]
  },
  {
   "cell_type": "code",
   "execution_count": 4,
   "id": "68a60bfe-556e-4e04-acd7-33ea5ee68a7d",
   "metadata": {},
   "outputs": [],
   "source": [
    "from PIL import ImageTk,Image"
   ]
  },
  {
   "cell_type": "code",
   "execution_count": 12,
   "id": "00bd6aae-16a3-430f-adbc-e7f0a158e0bd",
   "metadata": {},
   "outputs": [],
   "source": [
    "\n",
    "####################################################################################################\n",
    "# reading data ##\n",
    "\n",
    "df=pd.read_csv('ml-100k/u.data',sep='\\t',names=['user_id','item_id','rating','ts'])\n",
    "\n",
    "cols='item_id|title|release date|video release date|\\\n",
    "              IMDb URL|unknown|Action|Adventure|Animation|\\\n",
    "              Childrens|Comedy|Crime|Documentary|Drama|Fantasy|\\\n",
    "              Film-Noir|Horror|Musical|Mystery|Romance|Sci-Fi|\\\n",
    "              Thriller|War|Western|'.split('|')\n",
    "movies=pd.read_csv('ml-100k/u.item',sep='|',names=cols)\n",
    "\n",
    "data=pd.merge(df.drop('ts',axis=1),movies[['item_id','title']],on='item_id')\n",
    "\n",
    "rate_count=data.groupby('title')['rating'].count()\n",
    "\n",
    "df_pivot = data.pivot_table(index='user_id',columns='title',values='rating')\n",
    "#######################################################################################################\n",
    "# setting window ##\n",
    "\n",
    "app=tk.Tk()\n",
    "app.geometry('400x300')\n",
    "app.title('Movie recommendation system')\n",
    "########################################################################################################\n",
    "# setting image canvas ##\n",
    "\n",
    "bg = ImageTk.PhotoImage(Image.open('mv.jpg'))\n",
    "canvas1 = tk.Canvas( app, width = 400,height = 400)\n",
    "canvas1.pack(fill = \"both\", expand = True)\n",
    "canvas1.create_image( 0, 0, image = bg, anchor = \"nw\")\n",
    "canvas1.create_text( 300, 250, text = \"Have a nice day !!\",fill=\"white\",font=\"Times 10 italic bold\")\n",
    "b=\"Press the below button  to \\nsee movies we recommend \\nto you\"\n",
    "canvas1.create_text( 320, 60, text = b ,fill=\"white\",font=\"Calibri 10  italic bold\")\n",
    "canvas1.create_text( 60, 15, text =\"Movies List\" ,fill=\"white\",font=\"Calibri 12   bold\")\n",
    "\n",
    "###########################################################################################################\n",
    "############################################################################################################\n",
    "# setting correlation concept for recommendation sysytem ###\n",
    "\n",
    "listbox = tk.Listbox(app,height=15,width=30,bg='black', fg='white')\n",
    "listbox.place(x=20,y=30)\n",
    "for i,t in enumerate (data['title'].unique()):\n",
    "    listbox.insert(i+1, t)\n",
    "\n",
    "def recommend():\n",
    "    inp = listbox.get(listbox.curselection())\n",
    "    sim_df=pd.DataFrame(df_pivot.corrwith(df_pivot[inp]),columns=['Correlation'])\n",
    "    sim_df['count'] = rate_count\n",
    "    recom=sim_df[(sim_df['count']>100)].sort_values(by='Correlation',ascending=False).head(10)\n",
    "    if inp == recom.index[0]:\n",
    "        recom.drop(inp,axis=0,inplace=True)\n",
    "    recommended=recom.index[:3]  \n",
    "    result1.set(recommended[0])                   \n",
    "    result2.set(recommended[1])  \n",
    "    result3.set(recommended[2])                      \n",
    "    print(inp)\n",
    "    print(recommended)\n",
    "tk.Button(app,text='Show recommendations',command=recommend,bg='red',fg='white').place(x=250,y=100) \n",
    "\n",
    "result1= tk.Variable(app)\n",
    "result1.set('Movie 1')\n",
    "tk.Label(app,textvariable=result1,fg=\"red\").place(x=250,y=140)\n",
    "    \n",
    "result2= tk.Variable(app)\n",
    "result2.set('Movie 2')\n",
    "tk.Label(app,textvariable=result2,fg=\"red\").place(x=250,y=170)\n",
    "\n",
    "\n",
    "result3= tk.Variable(app)\n",
    "result3.set('Movie 3')\n",
    "tk.Label(app,textvariable=result3,fg=\"red\").place(x=250,y=200)\n",
    "\n",
    "app.mainloop()"
   ]
  },
  {
   "cell_type": "code",
   "execution_count": null,
   "id": "1f5c4f0c-c25a-4343-bc18-de58e98c586d",
   "metadata": {},
   "outputs": [],
   "source": []
  },
  {
   "cell_type": "code",
   "execution_count": null,
   "id": "94fa1ddc-fc37-4a95-890d-23a582ee6a25",
   "metadata": {},
   "outputs": [],
   "source": []
  }
 ],
 "metadata": {
  "kernelspec": {
   "display_name": "Python 3",
   "language": "python",
   "name": "python3"
  },
  "language_info": {
   "codemirror_mode": {
    "name": "ipython",
    "version": 3
   },
   "file_extension": ".py",
   "mimetype": "text/x-python",
   "name": "python",
   "nbconvert_exporter": "python",
   "pygments_lexer": "ipython3",
   "version": "3.8.8"
  }
 },
 "nbformat": 4,
 "nbformat_minor": 5
}
